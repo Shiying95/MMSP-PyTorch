{
 "cells": [
  {
   "cell_type": "markdown",
   "id": "3186bba2",
   "metadata": {},
   "source": [
    "#### 命名参数\n",
    "- **task_sp: 必须。sale prediction任务的基础设置。**\n",
    "- **new_arrival：与下一项二选一。新品销量预测任务的基础设置。**\n",
    "- **new_arrival_wo_tit：与上一项二选一。不添加TIT任务的新品销量预测任务的基础设置。**\n",
    "- tshirt：使用t-shirt新品数据集。\n",
    "- shoes：使用shoes新品数据集。\n",
    "- jeans：使用jeans新品数据集。\n",
    "- tshirt：使用t-shirt新品数据集。\n",
    "- tshirt_50k_by_item：使用t-shirt_50k_by_item新品数据集。\n",
    "- sleepwear：使用sleepwear_50k新品数据集。\n",
    "- shirt：使用shirt_50k新品数据集。\n",
    "- without_attrs：仅使用text_image信息。\n",
    "- without_ti：仅使用结构化信息。\n",
    "- word_embedding：使用jieba分词后编码作为BERT输入。若不设置，则使用预训练模型进行编码。\n",
    "- debug：运行一个batch作为测试。\n",
    "- test：运行测试。需要后接test_version参数或load_ckpt参数。\n",
    "- new_model：测试新模型。\n",
    "\n",
    "#### 普通参数\n",
    "- max_epoch：模型运行的总epoch数。\n",
    "- batch_size：用作梯度下降的batch size。\n",
    "- per_gpu_batchsize：每个gpu上一次读取的batch size。太大会报错。\n",
    "- data_root：指定实验数据集。建议直接使用命名参数。\n",
    "- pretrained: 是否加载预训练模型。**默认为不加载**。\n",
    "\n",
    "**_Notes: 仅展示关键参数。全部参数请在config.py中查看。后定义的参数会覆盖先定义的参数。_**"
   ]
  },
  {
   "cell_type": "code",
   "execution_count": null,
   "id": "26afd49d",
   "metadata": {},
   "outputs": [],
   "source": [
    "# run experiment\n",
    "!python3 run.py with task_sp new_arrival_wo_tit new_model tshirt num_gpus=2 debug"
   ]
  },
],
 "metadata": {
  "kernelspec": {
   "display_name": "Python 3",
   "language": "python",
   "name": "python3"
  },
  "language_info": {
   "codemirror_mode": {
    "name": "ipython",
    "version": 3
   },
   "file_extension": ".py",
   "mimetype": "text/x-python",
   "name": "python",
   "nbconvert_exporter": "python",
   "pygments_lexer": "ipython3",
   "version": "3.8.10"
  },
  "toc-showcode": false
 },
 "nbformat": 4,
 "nbformat_minor": 5
}